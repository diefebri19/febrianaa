{
 "cells": [
  {
   "cell_type": "code",
   "execution_count": 1,
   "id": "4b155fe0",
   "metadata": {},
   "outputs": [],
   "source": [
    "TOKEN = \"5014388555:AAGsbWpaK3P1XkIT0N7-qdRfBccVsizE6Og\""
   ]
  }
 ],
 "metadata": {
  "kernelspec": {
   "display_name": "capstone-telebot",
   "language": "python",
   "name": "capstone-telebot"
  },
  "language_info": {
   "codemirror_mode": {
    "name": "ipython",
    "version": 3
   },
   "file_extension": ".py",
   "mimetype": "text/x-python",
   "name": "python",
   "nbconvert_exporter": "python",
   "pygments_lexer": "ipython3",
   "version": "3.8.12"
  }
 },
 "nbformat": 4,
 "nbformat_minor": 5
}
